{
 "cells": [
  {
   "attachments": {},
   "cell_type": "markdown",
   "metadata": {},
   "source": [
    "## Notes\n",
    "### Check sl bg fakeids"
   ]
  },
  {
   "cell_type": "code",
   "execution_count": 2,
   "metadata": {},
   "outputs": [],
   "source": [
    "import numpy as np\n",
    "import os\n",
    "import pandas as pd\n",
    "import arcpy\n",
    "\n",
    "# Import the required ArcGIS API for Python modules\n",
    "#import arcgis\n",
    "#from arcgis.gis import GIS\n",
    "#gis = arcgis.GIS()\n",
    "#from arcgis.geoanalytics import manage_data\n",
    "\n",
    "from IPython.display import display, Markdown"
   ]
  },
  {
   "cell_type": "code",
   "execution_count": 3,
   "metadata": {},
   "outputs": [
    {
     "name": "stdout",
     "output_type": "stream",
     "text": [
      "Working Directory: d:\\GitHub\\Census-LEHD-Commute-Patterns\n",
      "Intermediate Directory: d:\\GitHub\\Census-LEHD-Commute-Patterns\\intermediate\\intermediate2019\\LEHDVSL\n",
      "Results Directory: d:\\GitHub\\Census-LEHD-Commute-Patterns\\results\\results2019\\LEHDVSL\n"
     ]
    }
   ],
   "source": [
    "dirWork         = os.getcwd()\n",
    "year            = '2019'\n",
    "#dirInput        = os.path.join(dirWork, r'data\\data' + year                            )\n",
    "\n",
    "dirLEHD         = os.path.join(dirWork, r'results\\results' + year + '\\LODES'            )\n",
    "dirSL           = os.path.join(dirWork, r'results\\results' + year + '\\SL'               ) \n",
    "dirIntermediate = os.path.join(dirWork, 'intermediate\\intermediate' + year + '\\LEHDVSL')\n",
    "dirResults      = os.path.join(dirWork, r'results\\results' + year + '\\LEHDVSL'         )\n",
    "\n",
    "print(\"Working Directory: \"      + dirWork        )\n",
    "#print(\"Input Directory: \"        + dirInput       )\n",
    "print(\"Intermediate Directory: \" + dirIntermediate)\n",
    "print(\"Results Directory: \"      + dirResults     )"
   ]
  },
  {
   "cell_type": "code",
   "execution_count": 10,
   "metadata": {},
   "outputs": [],
   "source": [
    "#input filenames\n",
    "gdb_LEHDCommutePatterns = \"LEHDCommutePatterns.gdb\"\n",
    "gdb_SLCommutePatterns = \"SLCommutePatterns.gdb\"\n",
    "fname_LEHDCommutePatterns_gdb = os.path.join(dirLEHD, gdb_LEHDCommutePatterns)\n",
    "fname_SLCommutePatterns_gdb = os.path.join(dirSL, gdb_SLCommutePatterns)\n",
    "\n",
    "lehd_BlockGroupsWCommutePatterns_Number = os.path.join(fname_LEHDCommutePatterns_gdb, 'LEHD_BlockGroup_CommutePatterns_Number')\n",
    "lehd_TractsWCommutePatterns_Number = os.path.join(fname_LEHDCommutePatterns_gdb, 'LEHD_Tract_CommutePatterns_Number')\n",
    "lehd_SDWCommutePatterns_Number = os.path.join(fname_LEHDCommutePatterns_gdb, 'LEHD_SD_CommutePatterns_Number')\n",
    "lehd_CitiesWCommutePatterns_Number = os.path.join(fname_LEHDCommutePatterns_gdb, 'LEHD_City_CommutePatterns_Number')\n",
    "\n",
    "sl_BlockGroupsWCommutePatterns_Number = os.path.join(fname_SLCommutePatterns_gdb, 'SL_BlockGroup_CommutePatterns_Number')\n",
    "sl_TractsWCommutePatterns_Number = os.path.join(fname_SLCommutePatterns_gdb, 'SL_Tract_CommutePatterns_Number')\n",
    "sl_SDWCommutePatterns_Number = os.path.join(fname_SLCommutePatterns_gdb, 'SL_SD_CommutePatterns_Number')\n",
    "sl_CitiesWCommutePatterns_Number = os.path.join(fname_SLCommutePatterns_gdb, 'SL_City_CommutePatterns_Number')"
   ]
  },
  {
   "cell_type": "code",
   "execution_count": 7,
   "metadata": {},
   "outputs": [
    {
     "name": "stdout",
     "output_type": "stream",
     "text": [
      "Checking if d:\\GitHub\\Census-LEHD-Commute-Patterns\\results\\results2019\\LEHDVSL\\LEHDVSLCommutePatterns.gdb exists...\n",
      "LEHDVSLCommutePatterns.gdb exists...\n"
     ]
    }
   ],
   "source": [
    "#output filenames\n",
    "gdb_LEHDVSLCommutePatterns = \"LEHDVSLCommutePatterns.gdb\"\n",
    "fname_LEHDVSLCommutePatterns_gdb = os.path.join(dirResults, gdb_LEHDVSLCommutePatterns)\n",
    "\n",
    "base_BlockGroupsWCommutePatterns_Number = os.path.join(fname_LEHDVSLCommutePatterns_gdb, 'base_LEHDVSL_BlockGroup_CommutePatterns_Number.shp')\n",
    "base_TractsWCommutePatterns_Number = os.path.join(fname_LEHDVSLCommutePatterns_gdb, 'base_LEHDVSL_Tract_CommutePatterns_Number.shp')\n",
    "base_SDWCommutePatterns_Number = os.path.join(fname_LEHDVSLCommutePatterns_gdb, 'base_LEHDVSL_SD_CommutePatterns_Number.shp')\n",
    "base_CitiesWCommutePatterns_Number = os.path.join(fname_LEHDVSLCommutePatterns_gdb, 'base_LEHDVSL_City_CommutePatterns_Number.shp')\n",
    "\n",
    "base_BlockGroupsWCommutePatterns_PercDiff = os.path.join(fname_LEHDVSLCommutePatterns_gdb, 'base_LEHDVSL_BlockGroup_CommutePatterns_PercDi.shpff')\n",
    "base_TractsWCommutePatterns_PercDiff = os.path.join(fname_LEHDVSLCommutePatterns_gdb, 'base_LEHDVSL_Tract_CommutePatterns_PercDiff.shp')\n",
    "base_SDWCommutePatterns_PercDiff = os.path.join(fname_LEHDVSLCommutePatterns_gdb, 'base_LEHDVSL_SD_CommutePatterns_PercDiff.shp')\n",
    "base_CitiesWCommutePatterns_PercDiff = os.path.join(fname_LEHDVSLCommutePatterns_gdb, 'base_LEHDVSL_City_CommutePatterns_PercDiff.shp')\n",
    "\n",
    "fname_BlockGroupsWCommutePatterns_Number = os.path.join(fname_LEHDVSLCommutePatterns_gdb, 'LEHDVSL_BlockGroup_CommutePatterns_Numb.shper')\n",
    "fname_TractsWCommutePatterns_Number = os.path.join(fname_LEHDVSLCommutePatterns_gdb, 'LEHDVSL_Tract_CommutePatterns_Number.shp')\n",
    "fname_SDWCommutePatterns_Number = os.path.join(fname_LEHDVSLCommutePatterns_gdb, 'LEHDVSL_SD_CommutePatterns_Number.shp')\n",
    "fname_CitiesWCommutePatterns_Number = os.path.join(fname_LEHDVSLCommutePatterns_gdb, 'LEHDVSL_City_CommutePatterns_Number.shp')\n",
    "\n",
    "fname_BlockGroupsWCommutePatterns_PercDiff = os.path.join(fname_LEHDVSLCommutePatterns_gdb, 'LEHDVSL_BlockGroup_CommutePatterns_PercDi.shpff')\n",
    "fname_TractsWCommutePatterns_PercDiff = os.path.join(fname_LEHDVSLCommutePatterns_gdb, 'LEHDVSL_Tract_CommutePatterns_PercDiff.shp')\n",
    "fname_SDWCommutePatterns_PercDiff = os.path.join(fname_LEHDVSLCommutePatterns_gdb, 'LEHDVSL_SD_CommutePatterns_PercDiff.shp')\n",
    "fname_CitiesWCommutePatterns_PercDiff = os.path.join(fname_LEHDVSLCommutePatterns_gdb, 'LEHDVSL_City_CommutePatterns_PercDiff.shp')\n",
    "\n",
    "def deleteIfExists(obj):\n",
    "    if arcpy.Exists(obj): arcpy.Delete_management(obj)\n",
    "\n",
    "#if results geodatabase doesn't exist, create it\n",
    "print(\"Checking if \" + fname_LEHDVSLCommutePatterns_gdb + \" exists...\")\n",
    "if not arcpy.Exists(os.path.join(dirResults, gdb_LEHDVSLCommutePatterns)):\n",
    "    print(\"Creating \" + fname_LEHDVSLCommutePatterns_gdb + \"...\")\n",
    "    arcpy.management.CreateFileGDB(dirResults, gdb_LEHDVSLCommutePatterns)\n",
    "else:\n",
    "    print(gdb_LEHDVSLCommutePatterns + \" exists...\")"
   ]
  },
  {
   "cell_type": "code",
   "execution_count": 8,
   "metadata": {},
   "outputs": [],
   "source": [
    "def get_dif_between_layers(lehdLayer, slLayer, colname, range1, range2, range3):\n",
    "    sdf_lehd = pd.DataFrame.spatial.from_featureclass(lehdLayer, sanitize_columns=False)\n",
    "    sdf_sl = pd.DataFrame.spatial.from_featureclass(slLayer, sanitize_columns=False)\n",
    "\n",
    "    # replace _o and _d with _h and _w in streetlight data\n",
    "    sdf_sl.columns = sdf_sl.columns.str.replace('_o','_h',regex=True)\n",
    "    sdf_sl.columns = sdf_sl.columns.str.replace('_d','_w',regex=True)\n",
    "\n",
    "    # select needed columns only\n",
    "    sdf_lehd_small = sdf_lehd.iloc[:, range1]\n",
    "    sdf_sl_small = sdf_sl.iloc[:, range2]\n",
    "\n",
    "    # set index columns\n",
    "    sdf_lehd_small.set_index([colname,'SHAPE'], inplace=True)\n",
    "    sdf_sl_small.set_index([colname,'SHAPE'], inplace=True)\n",
    "\n",
    "    # get base columns to merge on later\n",
    "    sdf_lehd_cols = sdf_lehd.iloc[:, range3]\n",
    "    sdf_sl_cols = sdf_sl.iloc[:, range3]\n",
    "\n",
    "    # calculate difference between dataframes\n",
    "    sdf_diff = sdf_sl_small.subtract(sdf_lehd_small, fill_value=0).reset_index()\n",
    "\n",
    "    # merge missing columns back on\n",
    "    sdf_diff_full = sdf_diff.merge(sdf_lehd_cols, on = colname, how = 'left')\n",
    "\n",
    "    return sdf_diff_full\n",
    "\n",
    "\n",
    "def get_pc_between_layers(lehdLayer, slLayer, colname, range1, range2, range3):\n",
    "    sdf_lehd = pd.DataFrame.spatial.from_featureclass(lehdLayer, sanitize_columns=False)\n",
    "    sdf_sl = pd.DataFrame.spatial.from_featureclass(slLayer, sanitize_columns=False)\n",
    "\n",
    "    # replace _o and _d with _h and _w in streetlight data\n",
    "    sdf_sl.columns = sdf_sl.columns.str.replace('_o','_h',regex=True)\n",
    "    sdf_sl.columns = sdf_sl.columns.str.replace('_d','_w',regex=True)\n",
    "\n",
    "    # select needed columns only\n",
    "    sdf_lehd_small = sdf_lehd.iloc[:, range1]\n",
    "    sdf_sl_small = sdf_sl.iloc[:, range2]\n",
    "\n",
    "    # set index columns\n",
    "    sdf_lehd_small.set_index([colname,'SHAPE'], inplace=True)\n",
    "    sdf_sl_small.set_index([colname,'SHAPE'], inplace=True)\n",
    "\n",
    "    # get base columns to merge on later\n",
    "    sdf_lehd_cols = sdf_lehd.iloc[:, range3]\n",
    "    sdf_sl_cols = sdf_sl.iloc[:, range3]\n",
    "\n",
    "    # calculate difference and pc between dataframes\n",
    "    sdf_diff = sdf_sl_small.subtract(sdf_lehd_small, fill_value=0)\n",
    "    sdf_pc = sdf_diff.div(sdf_lehd_small,fill_value = 0).mul(100)\n",
    "\n",
    "    # reset index\n",
    "    sdf_pc = sdf_pc.reset_index()\n",
    "\n",
    "    # merge missing columns back on\n",
    "    sdf_pc_full = sdf_pc.merge(sdf_lehd_cols, on = colname, how = 'left')\n",
    "\n",
    "    return sdf_pc_full\n",
    "\n",
    "    \n"
   ]
  },
  {
   "cell_type": "code",
   "execution_count": 13,
   "metadata": {},
   "outputs": [
    {
     "ename": "AttributeError",
     "evalue": "type object 'DataFrame' has no attribute 'spatial'",
     "output_type": "error",
     "traceback": [
      "\u001b[1;31m---------------------------------------------------------------------------\u001b[0m",
      "\u001b[1;31mAttributeError\u001b[0m                            Traceback (most recent call last)",
      "Cell \u001b[1;32mIn[13], line 1\u001b[0m\n\u001b[1;32m----> 1\u001b[0m sdf_bg_diff \u001b[38;5;241m=\u001b[39m \u001b[43mget_dif_between_layers\u001b[49m\u001b[43m(\u001b[49m\u001b[43mlehd_BlockGroupsWCommutePatterns_Number\u001b[49m\u001b[43m,\u001b[49m\u001b[43m \u001b[49m\u001b[43msl_BlockGroupsWCommutePatterns_Number\u001b[49m\u001b[43m,\u001b[49m\u001b[43m \u001b[49m\u001b[38;5;124;43m'\u001b[39;49m\u001b[38;5;124;43mGEOID\u001b[39;49m\u001b[38;5;124;43m'\u001b[39;49m\u001b[43m,\u001b[49m\u001b[43m \u001b[49m\u001b[43mnp\u001b[49m\u001b[38;5;241;43m.\u001b[39;49m\u001b[43mr_\u001b[49m\u001b[43m[\u001b[49m\u001b[38;5;241;43m7\u001b[39;49m\u001b[43m,\u001b[49m\u001b[38;5;241;43m18\u001b[39;49m\u001b[43m:\u001b[49m\u001b[38;5;241;43m236\u001b[39;49m\u001b[43m]\u001b[49m\u001b[43m,\u001b[49m\u001b[43m \u001b[49m\u001b[43mnp\u001b[49m\u001b[38;5;241;43m.\u001b[39;49m\u001b[43mr_\u001b[49m\u001b[43m[\u001b[49m\u001b[38;5;241;43m7\u001b[39;49m\u001b[43m,\u001b[49m\u001b[38;5;241;43m18\u001b[39;49m\u001b[43m:\u001b[49m\u001b[38;5;241;43m236\u001b[39;49m\u001b[43m]\u001b[49m\u001b[43m,\u001b[49m\u001b[43m \u001b[49m\u001b[43mnp\u001b[49m\u001b[38;5;241;43m.\u001b[39;49m\u001b[43mr_\u001b[49m\u001b[43m[\u001b[49m\u001b[38;5;241;43m0\u001b[39;49m\u001b[43m:\u001b[49m\u001b[38;5;241;43m17\u001b[39;49m\u001b[43m]\u001b[49m\u001b[43m)\u001b[49m\n\u001b[0;32m      2\u001b[0m sdf_bg_pc   \u001b[38;5;241m=\u001b[39m get_pc_between_layers(lehd_BlockGroupsWCommutePatterns_Number, sl_BlockGroupsWCommutePatterns_Number, \u001b[38;5;124m'\u001b[39m\u001b[38;5;124mGEOID\u001b[39m\u001b[38;5;124m'\u001b[39m, np\u001b[38;5;241m.\u001b[39mr_[\u001b[38;5;241m7\u001b[39m,\u001b[38;5;241m18\u001b[39m:\u001b[38;5;241m236\u001b[39m], np\u001b[38;5;241m.\u001b[39mr_[\u001b[38;5;241m7\u001b[39m,\u001b[38;5;241m18\u001b[39m:\u001b[38;5;241m236\u001b[39m], np\u001b[38;5;241m.\u001b[39mr_[\u001b[38;5;241m0\u001b[39m:\u001b[38;5;241m17\u001b[39m])\n",
      "Cell \u001b[1;32mIn[8], line 2\u001b[0m, in \u001b[0;36mget_dif_between_layers\u001b[1;34m(lehdLayer, slLayer, colname, range1, range2, range3)\u001b[0m\n\u001b[0;32m      1\u001b[0m \u001b[38;5;28;01mdef\u001b[39;00m \u001b[38;5;21mget_dif_between_layers\u001b[39m(lehdLayer, slLayer, colname, range1, range2, range3):\n\u001b[1;32m----> 2\u001b[0m     sdf_lehd \u001b[38;5;241m=\u001b[39m \u001b[43mpd\u001b[49m\u001b[38;5;241;43m.\u001b[39;49m\u001b[43mDataFrame\u001b[49m\u001b[38;5;241;43m.\u001b[39;49m\u001b[43mspatial\u001b[49m\u001b[38;5;241m.\u001b[39mfrom_featureclass(lehdLayer, sanitize_columns\u001b[38;5;241m=\u001b[39m\u001b[38;5;28;01mFalse\u001b[39;00m)\n\u001b[0;32m      3\u001b[0m     sdf_sl \u001b[38;5;241m=\u001b[39m pd\u001b[38;5;241m.\u001b[39mDataFrame\u001b[38;5;241m.\u001b[39mspatial\u001b[38;5;241m.\u001b[39mfrom_featureclass(slLayer, sanitize_columns\u001b[38;5;241m=\u001b[39m\u001b[38;5;28;01mFalse\u001b[39;00m)\n\u001b[0;32m      5\u001b[0m     \u001b[38;5;66;03m# replace _o and _d with _h and _w in streetlight data\u001b[39;00m\n",
      "\u001b[1;31mAttributeError\u001b[0m: type object 'DataFrame' has no attribute 'spatial'"
     ]
    }
   ],
   "source": [
    "sdf_bg_diff = get_dif_between_layers(lehd_BlockGroupsWCommutePatterns_Number, sl_BlockGroupsWCommutePatterns_Number, 'GEOID', np.r_[7,18:236], np.r_[7,18:236], np.r_[0:17])\n",
    "sdf_bg_pc   = get_pc_between_layers(lehd_BlockGroupsWCommutePatterns_Number, sl_BlockGroupsWCommutePatterns_Number, 'GEOID', np.r_[7,18:236], np.r_[7,18:236], np.r_[0:17])"
   ]
  },
  {
   "cell_type": "code",
   "execution_count": 19,
   "metadata": {},
   "outputs": [
    {
     "ename": "ExecuteError",
     "evalue": "Failed to execute. Parameters are not valid.\nERROR 000732: Input Features: Dataset d:\\GitHub\\Census-LEHD-Commute-Patterns\\results\\results2019\\LEHDVSL\\LEHDVSLCommutePatterns.gdb\\base_LEHDVSL_BlockGroup_CommutePatterns_Number does not exist or is not supported\nFailed to execute (SimplifyPolygon).\n",
     "output_type": "error",
     "traceback": [
      "\u001b[1;31m---------------------------------------------------------------------------\u001b[0m",
      "\u001b[1;31mExecuteError\u001b[0m                              Traceback (most recent call last)",
      "Cell \u001b[1;32mIn[19], line 1\u001b[0m\n\u001b[1;32m----> 1\u001b[0m \u001b[43marcpy\u001b[49m\u001b[38;5;241;43m.\u001b[39;49m\u001b[43mcartography\u001b[49m\u001b[38;5;241;43m.\u001b[39;49m\u001b[43mSimplifyPolygon\u001b[49m\u001b[43m(\u001b[49m\u001b[43mbase_BlockGroupsWCommutePatterns_Number\u001b[49m\u001b[43m,\u001b[49m\u001b[43m \u001b[49m\u001b[43mfname_BlockGroupsWCommutePatterns_Number\u001b[49m\u001b[43m,\u001b[49m\u001b[43m \u001b[49m\u001b[38;5;124;43m\"\u001b[39;49m\u001b[38;5;124;43mWEIGHTED_AREA\u001b[39;49m\u001b[38;5;124;43m\"\u001b[39;49m\u001b[43m,\u001b[49m\u001b[43m \u001b[49m\u001b[38;5;241;43m175\u001b[39;49m\u001b[43m)\u001b[49m\n\u001b[0;32m      2\u001b[0m arcpy\u001b[38;5;241m.\u001b[39mcartography\u001b[38;5;241m.\u001b[39mSimplifyPolygon(base_BlockGroupsWCommutePatterns_PercDiff, fname_BlockGroupsWCommutePatterns_PercDiff, \u001b[38;5;124m\"\u001b[39m\u001b[38;5;124mWEIGHTED_AREA\u001b[39m\u001b[38;5;124m\"\u001b[39m, \u001b[38;5;241m175\u001b[39m)\n",
      "File \u001b[1;32mC:\\Program Files\\ArcGIS\\Pro\\Resources\\ArcPy\\arcpy\\cartography.py:1729\u001b[0m, in \u001b[0;36mSimplifyPolygon\u001b[1;34m(in_features, out_feature_class, algorithm, tolerance, minimum_area, error_option, collapsed_point_option, in_barriers)\u001b[0m\n\u001b[0;32m   1727\u001b[0m     \u001b[38;5;28;01mreturn\u001b[39;00m retval\n\u001b[0;32m   1728\u001b[0m \u001b[38;5;28;01mexcept\u001b[39;00m \u001b[38;5;167;01mException\u001b[39;00m \u001b[38;5;28;01mas\u001b[39;00m e:\n\u001b[1;32m-> 1729\u001b[0m     \u001b[38;5;28;01mraise\u001b[39;00m e\n",
      "File \u001b[1;32mC:\\Program Files\\ArcGIS\\Pro\\Resources\\ArcPy\\arcpy\\cartography.py:1726\u001b[0m, in \u001b[0;36mSimplifyPolygon\u001b[1;34m(in_features, out_feature_class, algorithm, tolerance, minimum_area, error_option, collapsed_point_option, in_barriers)\u001b[0m\n\u001b[0;32m   1724\u001b[0m \u001b[38;5;28;01mfrom\u001b[39;00m \u001b[38;5;21;01marcpy\u001b[39;00m\u001b[38;5;21;01m.\u001b[39;00m\u001b[38;5;21;01marcobjects\u001b[39;00m\u001b[38;5;21;01m.\u001b[39;00m\u001b[38;5;21;01marcobjectconversion\u001b[39;00m \u001b[38;5;28;01mimport\u001b[39;00m convertArcObjectToPythonObject\n\u001b[0;32m   1725\u001b[0m \u001b[38;5;28;01mtry\u001b[39;00m:\n\u001b[1;32m-> 1726\u001b[0m     retval \u001b[38;5;241m=\u001b[39m convertArcObjectToPythonObject(\u001b[43mgp\u001b[49m\u001b[38;5;241;43m.\u001b[39;49m\u001b[43mSimplifyPolygon_cartography\u001b[49m\u001b[43m(\u001b[49m\u001b[38;5;241;43m*\u001b[39;49m\u001b[43mgp_fixargs\u001b[49m\u001b[43m(\u001b[49m\u001b[43m(\u001b[49m\u001b[43min_features\u001b[49m\u001b[43m,\u001b[49m\u001b[43m \u001b[49m\u001b[43mout_feature_class\u001b[49m\u001b[43m,\u001b[49m\u001b[43m \u001b[49m\u001b[43malgorithm\u001b[49m\u001b[43m,\u001b[49m\u001b[43m \u001b[49m\u001b[43mtolerance\u001b[49m\u001b[43m,\u001b[49m\u001b[43m \u001b[49m\u001b[43mminimum_area\u001b[49m\u001b[43m,\u001b[49m\u001b[43m \u001b[49m\u001b[43merror_option\u001b[49m\u001b[43m,\u001b[49m\u001b[43m \u001b[49m\u001b[43mcollapsed_point_option\u001b[49m\u001b[43m,\u001b[49m\u001b[43m \u001b[49m\u001b[43min_barriers\u001b[49m\u001b[43m)\u001b[49m\u001b[43m,\u001b[49m\u001b[43m \u001b[49m\u001b[38;5;28;43;01mTrue\u001b[39;49;00m\u001b[43m)\u001b[49m\u001b[43m)\u001b[49m)\n\u001b[0;32m   1727\u001b[0m     \u001b[38;5;28;01mreturn\u001b[39;00m retval\n\u001b[0;32m   1728\u001b[0m \u001b[38;5;28;01mexcept\u001b[39;00m \u001b[38;5;167;01mException\u001b[39;00m \u001b[38;5;28;01mas\u001b[39;00m e:\n",
      "File \u001b[1;32mC:\\Program Files\\ArcGIS\\Pro\\Resources\\ArcPy\\arcpy\\geoprocessing\\_base.py:512\u001b[0m, in \u001b[0;36mGeoprocessor.__getattr__.<locals>.<lambda>\u001b[1;34m(*args)\u001b[0m\n\u001b[0;32m    510\u001b[0m val \u001b[38;5;241m=\u001b[39m \u001b[38;5;28mgetattr\u001b[39m(\u001b[38;5;28mself\u001b[39m\u001b[38;5;241m.\u001b[39m_gp, attr)\n\u001b[0;32m    511\u001b[0m \u001b[38;5;28;01mif\u001b[39;00m \u001b[38;5;28mcallable\u001b[39m(val):\n\u001b[1;32m--> 512\u001b[0m     \u001b[38;5;28;01mreturn\u001b[39;00m \u001b[38;5;28;01mlambda\u001b[39;00m \u001b[38;5;241m*\u001b[39margs: \u001b[43mval\u001b[49m\u001b[43m(\u001b[49m\u001b[38;5;241;43m*\u001b[39;49m\u001b[43mgp_fixargs\u001b[49m\u001b[43m(\u001b[49m\u001b[43margs\u001b[49m\u001b[43m,\u001b[49m\u001b[43m \u001b[49m\u001b[38;5;28;43;01mTrue\u001b[39;49;00m\u001b[43m)\u001b[49m\u001b[43m)\u001b[49m\n\u001b[0;32m    513\u001b[0m \u001b[38;5;28;01melse\u001b[39;00m:\n\u001b[0;32m    514\u001b[0m     \u001b[38;5;28;01mreturn\u001b[39;00m convertArcObjectToPythonObject(val)\n",
      "\u001b[1;31mExecuteError\u001b[0m: Failed to execute. Parameters are not valid.\nERROR 000732: Input Features: Dataset d:\\GitHub\\Census-LEHD-Commute-Patterns\\results\\results2019\\LEHDVSL\\LEHDVSLCommutePatterns.gdb\\base_LEHDVSL_BlockGroup_CommutePatterns_Number does not exist or is not supported\nFailed to execute (SimplifyPolygon).\n"
     ]
    }
   ],
   "source": [
    "arcpy.cartography.SimplifyPolygon(base_BlockGroupsWCommutePatterns_Number, fname_BlockGroupsWCommutePatterns_Number, \"WEIGHTED_AREA\", 175)\n",
    "arcpy.cartography.SimplifyPolygon(base_BlockGroupsWCommutePatterns_PercDiff, fname_BlockGroupsWCommutePatterns_PercDiff, \"WEIGHTED_AREA\", 175)"
   ]
  },
  {
   "cell_type": "code",
   "execution_count": 14,
   "metadata": {},
   "outputs": [
    {
     "ename": "NameError",
     "evalue": "name 'sdf_bg_diff' is not defined",
     "output_type": "error",
     "traceback": [
      "\u001b[1;31m---------------------------------------------------------------------------\u001b[0m",
      "\u001b[1;31mNameError\u001b[0m                                 Traceback (most recent call last)",
      "Cell \u001b[1;32mIn[14], line 6\u001b[0m\n\u001b[0;32m      3\u001b[0m deleteIfExists(base_BlockGroupsWCommutePatterns_PercDiff)\n\u001b[0;32m      4\u001b[0m deleteIfExists(fname_BlockGroupsWCommutePatterns_PercDiff)\n\u001b[1;32m----> 6\u001b[0m \u001b[43msdf_bg_diff\u001b[49m\u001b[38;5;241m.\u001b[39mspatial\u001b[38;5;241m.\u001b[39mto_featureclass(base_BlockGroupsWCommutePatterns_Number, sanitize_columns\u001b[38;5;241m=\u001b[39m\u001b[38;5;28;01mFalse\u001b[39;00m)\n\u001b[0;32m      7\u001b[0m sdf_bg_pc\u001b[38;5;241m.\u001b[39mspatial\u001b[38;5;241m.\u001b[39mto_featureclass(base_BlockGroupsWCommutePatterns_PercDiff, sanitize_columns\u001b[38;5;241m=\u001b[39m\u001b[38;5;28;01mFalse\u001b[39;00m)\n\u001b[0;32m      9\u001b[0m arcpy\u001b[38;5;241m.\u001b[39mcartography\u001b[38;5;241m.\u001b[39mSimplifyPolygon(base_BlockGroupsWCommutePatterns_Number, fname_BlockGroupsWCommutePatterns_Number, \u001b[38;5;124m\"\u001b[39m\u001b[38;5;124mWEIGHTED_AREA\u001b[39m\u001b[38;5;124m\"\u001b[39m, \u001b[38;5;241m175\u001b[39m)\n",
      "\u001b[1;31mNameError\u001b[0m: name 'sdf_bg_diff' is not defined"
     ]
    }
   ],
   "source": [
    "deleteIfExists(base_BlockGroupsWCommutePatterns_Number)\n",
    "deleteIfExists(fname_BlockGroupsWCommutePatterns_Number)\n",
    "deleteIfExists(base_BlockGroupsWCommutePatterns_PercDiff)\n",
    "deleteIfExists(fname_BlockGroupsWCommutePatterns_PercDiff)\n",
    "\n",
    "sdf_bg_diff.spatial.to_featureclass(base_BlockGroupsWCommutePatterns_Number, sanitize_columns=False)\n",
    "sdf_bg_pc.spatial.to_featureclass(base_BlockGroupsWCommutePatterns_PercDiff, sanitize_columns=False)\n",
    "\n",
    "arcpy.cartography.SimplifyPolygon(base_BlockGroupsWCommutePatterns_Number, fname_BlockGroupsWCommutePatterns_Number, \"WEIGHTED_AREA\", 175)\n",
    "arcpy.cartography.SimplifyPolygon(base_BlockGroupsWCommutePatterns_PercDiff, fname_BlockGroupsWCommutePatterns_PercDiff, \"WEIGHTED_AREA\", 175)"
   ]
  },
  {
   "cell_type": "code",
   "execution_count": null,
   "metadata": {},
   "outputs": [
    {
     "ename": "AttributeError",
     "evalue": "type object 'DataFrame' has no attribute 'spatial'",
     "output_type": "error",
     "traceback": [
      "\u001b[1;31m---------------------------------------------------------------------------\u001b[0m",
      "\u001b[1;31mAttributeError\u001b[0m                            Traceback (most recent call last)",
      "Cell \u001b[1;32mIn[11], line 1\u001b[0m\n\u001b[1;32m----> 1\u001b[0m sdf_tract_diff\u001b[38;5;241m=\u001b[39m \u001b[43mget_dif_between_layers\u001b[49m\u001b[43m(\u001b[49m\u001b[43mlehd_TractsWCommutePatterns_Number\u001b[49m\u001b[43m,\u001b[49m\u001b[43m \u001b[49m\u001b[43msl_TractsWCommutePatterns_Number\u001b[49m\u001b[43m,\u001b[49m\u001b[43m \u001b[49m\u001b[38;5;124;43m'\u001b[39;49m\u001b[38;5;124;43mGEOID20\u001b[39;49m\u001b[38;5;124;43m'\u001b[39;49m\u001b[43m,\u001b[49m\u001b[43m \u001b[49m\u001b[43mnp\u001b[49m\u001b[38;5;241;43m.\u001b[39;49m\u001b[43mr_\u001b[49m\u001b[43m[\u001b[49m\u001b[38;5;241;43m5\u001b[39;49m\u001b[43m,\u001b[49m\u001b[38;5;241;43m18\u001b[39;49m\u001b[43m:\u001b[49m\u001b[38;5;241;43m235\u001b[39;49m\u001b[43m]\u001b[49m\u001b[43m,\u001b[49m\u001b[43m  \u001b[49m\u001b[43mnp\u001b[49m\u001b[38;5;241;43m.\u001b[39;49m\u001b[43mr_\u001b[49m\u001b[43m[\u001b[49m\u001b[38;5;241;43m5\u001b[39;49m\u001b[43m,\u001b[49m\u001b[38;5;241;43m18\u001b[39;49m\u001b[43m:\u001b[49m\u001b[38;5;241;43m234\u001b[39;49m\u001b[43m]\u001b[49m\u001b[43m,\u001b[49m\u001b[43m \u001b[49m\u001b[43mnp\u001b[49m\u001b[38;5;241;43m.\u001b[39;49m\u001b[43mr_\u001b[49m\u001b[43m[\u001b[49m\u001b[38;5;241;43m0\u001b[39;49m\u001b[43m:\u001b[49m\u001b[38;5;241;43m17\u001b[39;49m\u001b[43m]\u001b[49m\u001b[43m)\u001b[49m\n\u001b[0;32m      2\u001b[0m sdf_tract_pc  \u001b[38;5;241m=\u001b[39m get_pc_between_layers(lehd_TractsWCommutePatterns_Number, sl_TractsWCommutePatterns_Number, \u001b[38;5;124m'\u001b[39m\u001b[38;5;124mGEOID20\u001b[39m\u001b[38;5;124m'\u001b[39m, np\u001b[38;5;241m.\u001b[39mr_[\u001b[38;5;241m5\u001b[39m,\u001b[38;5;241m18\u001b[39m:\u001b[38;5;241m235\u001b[39m],  np\u001b[38;5;241m.\u001b[39mr_[\u001b[38;5;241m5\u001b[39m,\u001b[38;5;241m18\u001b[39m:\u001b[38;5;241m234\u001b[39m], np\u001b[38;5;241m.\u001b[39mr_[\u001b[38;5;241m0\u001b[39m:\u001b[38;5;241m17\u001b[39m])\n",
      "Cell \u001b[1;32mIn[6], line 2\u001b[0m, in \u001b[0;36mget_dif_between_layers\u001b[1;34m(lehdLayer, slLayer, colname, range1, range2, range3)\u001b[0m\n\u001b[0;32m      1\u001b[0m \u001b[38;5;28;01mdef\u001b[39;00m \u001b[38;5;21mget_dif_between_layers\u001b[39m(lehdLayer, slLayer, colname, range1, range2, range3):\n\u001b[1;32m----> 2\u001b[0m     sdf_lehd \u001b[38;5;241m=\u001b[39m \u001b[43mpd\u001b[49m\u001b[38;5;241;43m.\u001b[39;49m\u001b[43mDataFrame\u001b[49m\u001b[38;5;241;43m.\u001b[39;49m\u001b[43mspatial\u001b[49m\u001b[38;5;241m.\u001b[39mfrom_featureclass(lehdLayer, sanitize_columns\u001b[38;5;241m=\u001b[39m\u001b[38;5;28;01mFalse\u001b[39;00m)\n\u001b[0;32m      3\u001b[0m     sdf_sl \u001b[38;5;241m=\u001b[39m pd\u001b[38;5;241m.\u001b[39mDataFrame\u001b[38;5;241m.\u001b[39mspatial\u001b[38;5;241m.\u001b[39mfrom_featureclass(slLayer, sanitize_columns\u001b[38;5;241m=\u001b[39m\u001b[38;5;28;01mFalse\u001b[39;00m)\n\u001b[0;32m      5\u001b[0m     \u001b[38;5;66;03m# replace _o and _d with _h and _w in streetlight data\u001b[39;00m\n",
      "\u001b[1;31mAttributeError\u001b[0m: type object 'DataFrame' has no attribute 'spatial'"
     ]
    }
   ],
   "source": [
    "sdf_tract_diff= get_dif_between_layers(lehd_TractsWCommutePatterns_Number, sl_TractsWCommutePatterns_Number, 'GEOID20', np.r_[5,18:235],  np.r_[5,18:234], np.r_[0:17])\n",
    "sdf_tract_pc  = get_pc_between_layers(lehd_TractsWCommutePatterns_Number, sl_TractsWCommutePatterns_Number, 'GEOID20', np.r_[5,18:235],  np.r_[5,18:234], np.r_[0:17])"
   ]
  },
  {
   "cell_type": "code",
   "execution_count": 1,
   "metadata": {},
   "outputs": [
    {
     "ename": "NameError",
     "evalue": "name 'arcpy' is not defined",
     "output_type": "error",
     "traceback": [
      "\u001b[1;31m---------------------------------------------------------------------------\u001b[0m",
      "\u001b[1;31mNameError\u001b[0m                                 Traceback (most recent call last)",
      "Cell \u001b[1;32mIn[1], line 9\u001b[0m\n\u001b[0;32m      1\u001b[0m \u001b[38;5;66;03m#deleteIfExists(base_TractsWCommutePatterns_Number)\u001b[39;00m\n\u001b[0;32m      2\u001b[0m \u001b[38;5;66;03m#deleteIfExists(fname_TractsWCommutePatterns_Number)\u001b[39;00m\n\u001b[0;32m      3\u001b[0m \u001b[38;5;66;03m#deleteIfExists(base_TractsWCommutePatterns_PercDiff)\u001b[39;00m\n\u001b[1;32m   (...)\u001b[0m\n\u001b[0;32m      6\u001b[0m \u001b[38;5;66;03m#sdf_tract_diff.spatial.to_featureclass(base_TractsWCommutePatterns_Number, sanitize_columns=False)\u001b[39;00m\n\u001b[0;32m      7\u001b[0m \u001b[38;5;66;03m#sdf_tract_pc.spatial.to_featureclass(base_TractsWCommutePatterns_PercDiff, sanitize_columns=False)\u001b[39;00m\n\u001b[1;32m----> 9\u001b[0m \u001b[43marcpy\u001b[49m\u001b[38;5;241m.\u001b[39mcartography\u001b[38;5;241m.\u001b[39mSimplifyPolygon(base_TractsWCommutePatterns_Number, fname_TractsWCommutePatterns_Number, \u001b[38;5;124m\"\u001b[39m\u001b[38;5;124mWEIGHTED_AREA\u001b[39m\u001b[38;5;124m\"\u001b[39m, \u001b[38;5;241m175\u001b[39m)\n\u001b[0;32m     10\u001b[0m arcpy\u001b[38;5;241m.\u001b[39mcartography\u001b[38;5;241m.\u001b[39mSimplifyPolygon(base_TractsWCommutePatterns_PercDiff, fname_TractsWCommutePatterns_PercDiff, \u001b[38;5;124m\"\u001b[39m\u001b[38;5;124mWEIGHTED_AREA\u001b[39m\u001b[38;5;124m\"\u001b[39m, \u001b[38;5;241m175\u001b[39m)\n",
      "\u001b[1;31mNameError\u001b[0m: name 'arcpy' is not defined"
     ]
    }
   ],
   "source": [
    "#deleteIfExists(base_TractsWCommutePatterns_Number)\n",
    "#deleteIfExists(fname_TractsWCommutePatterns_Number)\n",
    "#deleteIfExists(base_TractsWCommutePatterns_PercDiff)\n",
    "#deleteIfExists(fname_TractsWCommutePatterns_PercDiff)\n",
    "#\n",
    "#sdf_tract_diff.spatial.to_featureclass(base_TractsWCommutePatterns_Number, sanitize_columns=False)\n",
    "#sdf_tract_pc.spatial.to_featureclass(base_TractsWCommutePatterns_PercDiff, sanitize_columns=False)\n",
    "\n",
    "arcpy.cartography.SimplifyPolygon(base_TractsWCommutePatterns_Number, fname_TractsWCommutePatterns_Number, \"WEIGHTED_AREA\", 175)\n",
    "arcpy.cartography.SimplifyPolygon(base_TractsWCommutePatterns_PercDiff, fname_TractsWCommutePatterns_PercDiff, \"WEIGHTED_AREA\", 175)"
   ]
  },
  {
   "cell_type": "code",
   "execution_count": null,
   "metadata": {},
   "outputs": [],
   "source": [
    "sdf_sd_diff = get_dif_between_layers(lehd_SDWCommutePatterns_Number, sl_SDWCommutePatterns_Number, 'DSML_NAME', np.r_[3,8:225], np.r_[3,8:224], np.r_[0:7])\n",
    "sdf_sd_pc   = get_pc_between_layers(lehd_SDWCommutePatterns_Number, sl_SDWCommutePatterns_Number, 'DSML_NAME', np.r_[3,8:225], np.r_[3,8:224], np.r_[0:7])"
   ]
  },
  {
   "cell_type": "code",
   "execution_count": null,
   "metadata": {},
   "outputs": [],
   "source": [
    "deleteIfExists(base_SDWCommutePatterns_Number)\n",
    "deleteIfExists(fname_SDWCommutePatterns_Number)\n",
    "deleteIfExists(base_SDWCommutePatterns_PercDiff)\n",
    "deleteIfExists(fname_SDWCommutePatterns_PercDiff)\n",
    "\n",
    "sdf_sd_diff.spatial.to_featureclass(base_SDWCommutePatterns_Number, sanitize_columns=False)\n",
    "sdf_sd_pc.spatial.to_featureclass(base_SDWCommutePatterns_PercDiff, sanitize_columns=False)\n",
    "\n",
    "arcpy.cartography.SimplifyPolygon(base_SDWCommutePatterns_Number, fname_SDWCommutePatterns_Number, \"WEIGHTED_AREA\", 175)\n",
    "arcpy.cartography.SimplifyPolygon(base_SDWCommutePatterns_PercDiff, fname_SDWCommutePatterns_Number, \"WEIGHTED_AREA\", 175)"
   ]
  },
  {
   "cell_type": "code",
   "execution_count": null,
   "metadata": {},
   "outputs": [],
   "source": [
    "sdf_city_diff = get_dif_between_layers(lehd_CitiesWCommutePatterns_Number, sl_CitiesWCommutePatterns_Number, 'CODE3', np.r_[1,4:222], np.r_[1,4:221], np.r_[0:3])\n",
    "sdf_city_pc   = get_pc_between_layers(lehd_CitiesWCommutePatterns_Number, sl_CitiesWCommutePatterns_Number, 'CODE3', np.r_[1,4:222], np.r_[1,4:221], np.r_[0:3])"
   ]
  },
  {
   "cell_type": "code",
   "execution_count": null,
   "metadata": {},
   "outputs": [],
   "source": [
    "deleteIfExists(base_CitiesWCommutePatterns_Number)\n",
    "deleteIfExists(fname_CitiesWCommutePatterns_Number)\n",
    "deleteIfExists(base_CitiesWCommutePatterns_PercDiff)\n",
    "deleteIfExists(fname_CitiesWCommutePatterns_PercDiff)\n",
    "\n",
    "sdf_city_diff.spatial.to_featureclass(base_CitiesWCommutePatterns_Number, sanitize_columns=False)\n",
    "sdf_city_pc.spatial.to_featureclass(base_CitiesWCommutePatterns_PercDiff, sanitize_columns=False)\n",
    "\n",
    "arcpy.cartography.SimplifyPolygon(fname_CitiesWCommutePatterns_Number, fname_CitiesWCommutePatterns_Number, \"WEIGHTED_AREA\", 175)\n",
    "arcpy.cartography.SimplifyPolygon(fname_CitiesWCommutePatterns_PercDiff, fname_CitiesWCommutePatterns_PercDiff, \"WEIGHTED_AREA\", 175)"
   ]
  },
  {
   "attachments": {},
   "cell_type": "markdown",
   "metadata": {},
   "source": [
    "### Testing\n"
   ]
  },
  {
   "cell_type": "code",
   "execution_count": null,
   "metadata": {},
   "outputs": [],
   "source": [
    "sdf_lehd_city_number = pd.DataFrame.spatial.from_featureclass(lehd_CitiesWCommutePatterns_Number)\n",
    "sdf_sl_city_number = pd.DataFrame.spatial.from_featureclass(sl_CitiesWCommutePatterns_Number)\n",
    "\n",
    "# replace _o and _d with _h and _w in streetlight data\n",
    "sdf_sl_city_number.columns = sdf_sl_city_number.columns.str.replace('_o','_h',regex=True)\n",
    "sdf_sl_city_number.columns = sdf_sl_city_number.columns.str.replace('_d','_w',regex=True)\n",
    "\n",
    "# select needed columns only\n",
    "sdf_lehd_city_number_small = sdf_lehd_city_number.iloc[:, np.r_[1,4:222]]\n",
    "sdf_sl_city_number_small = sdf_sl_city_number.iloc[:, np.r_[1,4:221]]\n",
    "\n",
    "# set index columns\n",
    "sdf_lehd_city_number_small.set_index(['CODE3','SHAPE'], inplace=True)\n",
    "sdf_sl_city_number_small.set_index(['CODE3','SHAPE'], inplace=True)"
   ]
  },
  {
   "cell_type": "code",
   "execution_count": null,
   "metadata": {},
   "outputs": [],
   "source": [
    "sdf_lehd_bg_number = pd.DataFrame.spatial.from_featureclass(lehd_BlockGroupsWCommutePatterns_Number)\n",
    "sdf_sl_bg_number = pd.DataFrame.spatial.from_featureclass(sl_BlockGroupsWCommutePatterns_Number)\n",
    "\n",
    "# replace _o and _d with _h and _w in streetlight data\n",
    "sdf_sl_bg_number.columns = sdf_sl_bg_number.columns.str.replace('_o','_h',regex=True)\n",
    "sdf_sl_bg_number.columns = sdf_sl_bg_number.columns.str.replace('_d','_w',regex=True)\n",
    "\n",
    "# select needed columns only\n",
    "sdf_lehd_bg_number_small = sdf_lehd_bg_number.iloc[:, np.r_[7,18:236]]\n",
    "sdf_sl_bg_number_small = sdf_sl_bg_number.iloc[:, np.r_[7,18:236]]\n",
    "\n",
    "# set index columns\n",
    "sdf_lehd_bg_number_small.set_index(['GEOID','SHAPE'], inplace=True)\n",
    "sdf_sl_bg_number_small.set_index(['GEOID','SHAPE'], inplace=True)\n",
    "\n",
    "# get base columns to merge on later\n",
    "sdf_lehd_bg_base_cols = sdf_lehd_bg_number.iloc[:, np.r_[0:17]]\n",
    "sdf_sl_bg_base_cols = sdf_sl_bg_number.iloc[:, np.r_[0:17]]\n",
    "\n",
    "# display tables\n",
    "#display(sdf_lehd_bg_number_small)\n",
    "#display(sdf_sl_bg_number_small)"
   ]
  },
  {
   "cell_type": "code",
   "execution_count": null,
   "metadata": {},
   "outputs": [],
   "source": [
    "sdf_bg_number_diff = sdf_sl_bg_number_small.subtract(sdf_lehd_bg_number_small, fill_value=0)\n",
    "sdf_bg_number_pc = sdf_bg_number_diff.div(sdf_lehd_bg_number_small,fill_value = 0).mul(100)\n",
    "\n",
    "sdf_bg_number_diff = sdf_bg_number_diff.reset_index()\n",
    "sdf_bg_number_pc = sdf_bg_number_pc.reset_index()"
   ]
  },
  {
   "cell_type": "code",
   "execution_count": null,
   "metadata": {},
   "outputs": [],
   "source": [
    "sdf_bg_number_diff_full = sdf_bg_number_diff.merge(sdf_lehd_bg_base_cols, on = 'GEOID', how = 'left')\n",
    "sdf_bg_number_pc_full = sdf_bg_number_pc.merge(sdf_lehd_bg_base_cols, on = 'GEOID', how = 'left')"
   ]
  },
  {
   "cell_type": "code",
   "execution_count": null,
   "metadata": {},
   "outputs": [],
   "source": [
    "#input filenames\n",
    "fname_CityTownship_csv        = os.path.join(dirInput, 'citytownship.csv'                                         )\n",
    "fname_CityTownship_shp        = os.path.join(dirInput, 'Municipalities_Township' + r'\\Municipalities_Township.shp') \n",
    "fname_SLCommutePatterns_csv = os.path.join(dirInput, 'sl_at_blockgroup_level' + year + '.csv'                   )\n",
    "#fname_UofUManualAllocation_csv= os.path.join(dirInput, '490351108004_Manual_Allocation.csv'                      )\n",
    "fname_BlockGroups_shp         = os.path.join(dirInput, 'tl_2020_49_bg' + r'\\tl_2020_49_sd_bg.shp'                 )\n",
    "fname_Counties_AGRC_shp       = os.path.join(dirInput, 'Utah_County_Boundaries-shp' + r'\\Counties.shp'            )\n",
    "fname_SLCommutePatterns_csv\n",
    "\n",
    "#intermediate\n",
    "fname_CityTownshipCounty_BlockGroups_shp = os.path.join(dirIntermediate, 'citytownshipcounty_blockgroup_intersect.shp')\n",
    "fname_CityTownshipWCodes_shp             = os.path.join(dirIntermediate, 'Municipalities_Townships_withCodes.shp')\n",
    "fname_CountyWCodes_shp                   = os.path.join(dirIntermediate, 'Counties_withCodes.shp')\n",
    "fname_CityTownshipWCodesUnionCounty_shp  = os.path.join(dirIntermediate, 'Municipalities_Townships_withCodes_Counties.shp')\n",
    "fname_CityTownshipCountyWCodes_shp       = os.path.join(dirIntermediate, 'Municipalities_Townships_Counties_withCodes.shp')\n",
    "\n",
    "#display(dirIntermediate)\n",
    "\n",
    "#results geodatabase\n",
    "\n",
    "fname_CityTownshipJSON = os.path.join(dirResults, \"sl_citytownshipdata.json\")\n",
    "\n",
    "gdb_SLCommutePatterns = \"SLCommutePatterns.gdb\"\n",
    "fname_SLCommutePatterns_gdb = os.path.join(dirResults, gdb_SLCommutePatterns)\n",
    "\n",
    "fname_CityTownshipWCodes = os.path.join(fname_SLCommutePatterns_gdb, 'Municipalities_and_Townships')\n",
    "#fname_CityTownshipCounty = os.path.join(fname_SLCommutePatterns_gdb, 'Municipalities_Townships_Counties')\n",
    "\n",
    "fname_BlockGroupsWCommutePatterns_Number = os.path.join(fname_SLCommutePatterns_gdb, 'LEHDVSL_BlockGroup_CommutePatterns_Number')\n",
    "fname_BlockGroupsWCommutePatterns_Percent = os.path.join(fname_SLCommutePatterns_gdb, 'LEHDVSL_BlockGroup_CommutePatterns_Percent')\n",
    "\n",
    "fname_TractsWCommutePatterns_Number = os.path.join(fname_SLCommutePatterns_gdb, 'LEHDVSL_Tract_CommutePatterns_Number')\n",
    "fname_TractsWCommutePatterns_Percent = os.path.join(fname_SLCommutePatterns_gdb, 'LEHDVSL_Tract_CommutePatterns_Percent')\n",
    "\n",
    "fname_SDWCommutePatterns_Number = os.path.join(fname_SLCommutePatterns_gdb, 'LEHDVSL_SD_CommutePatterns_Number')\n",
    "fname_SDWCommutePatterns_Percent = os.path.join(fname_SLCommutePatterns_gdb, 'LEHDVSL_SD_CommutePatterns_Percent')\n",
    "\n",
    "fname_CitiesWCommutePatterns_Number = os.path.join(fname_SLCommutePatterns_gdb, 'LEHDVSL_City_CommutePatterns_Number')\n",
    "fname_CitiesWCommutePatterns_Percent = os.path.join(fname_SLCommutePatterns_gdb, 'LEHDVSL_City_CommutePatterns_Percent')\n",
    "\n",
    "fname_Counties = os.path.join(fname_SLCommutePatterns_gdb, 'Counties')\n",
    "\n",
    "def deleteIfExists(obj):\n",
    "    if arcpy.Exists(obj): arcpy.Delete_management(obj)\n",
    "\n",
    "#if results geodatabase doesn't exist, create it\n",
    "print(\"Checking if \" + fname_SLCommutePatterns_gdb + \" exists...\")\n",
    "if not arcpy.Exists(os.path.join(dirResults, gdb_SLCommutePatterns)):\n",
    "    print(\"Creating \" + fname_SLCommutePatterns_gdb + \"...\")\n",
    "    arcpy.management.CreateFileGDB(dirResults, gdb_SLCommutePatterns)\n",
    "else:\n",
    "    print(gdb_SLCommutePatterns + \" exists...\")\n",
    "\n",
    "#print(AnalysisAreasInput)"
   ]
  },
  {
   "cell_type": "markdown",
   "metadata": {},
   "source": [
    "# Create Cities/Townships Feature Class with 3-Digit Code and County FIPS"
   ]
  }
 ],
 "metadata": {
  "kernelspec": {
   "display_name": "Python 3",
   "language": "python",
   "name": "python3"
  },
  "language_info": {
   "codemirror_mode": {
    "name": "ipython",
    "version": 3
   },
   "file_extension": ".py",
   "mimetype": "text/x-python",
   "name": "python",
   "nbconvert_exporter": "python",
   "pygments_lexer": "ipython3",
   "version": "3.9.16"
  }
 },
 "nbformat": 4,
 "nbformat_minor": 4
}
