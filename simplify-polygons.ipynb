{
 "cells": [
  {
   "cell_type": "markdown",
   "metadata": {},
   "source": [
    "BLOCK GROUPS"
   ]
  },
  {
   "cell_type": "code",
   "execution_count": null,
   "metadata": {
    "vscode": {
     "languageId": "r"
    }
   },
   "outputs": [],
   "source": [
    "deleteIfExists(base_BlockGroupsWCommutePatterns_Number)\n",
    "deleteIfExists(fname_BlockGroupsWCommutePatterns_Number)\n",
    "sdf_LEHDCommutePatterns.spatial.to_featureclass(base_BlockGroupsWCommutePatterns_Number, sanitize_columns=False)\n",
    "arcpy.cartography.SimplifyPolygon(base_BlockGroupsWCommutePatterns_Number, fname_BlockGroupsWCommutePatterns_Number, \"WEIGHTED_AREA\", 175)"
   ]
  },
  {
   "cell_type": "markdown",
   "metadata": {},
   "source": [
    "SMALL DISTRICT"
   ]
  },
  {
   "cell_type": "code",
   "execution_count": null,
   "metadata": {
    "vscode": {
     "languageId": "r"
    }
   },
   "outputs": [],
   "source": [
    "deleteIfExists(base_SDWCommutePatterns_Number)\n",
    "deleteIfExists(fname_SDWCommutePatterns_Number)\n",
    "sdf_LEHDCommutePatterns_sd.spatial.to_featureclass(base_SDWCommutePatterns_Number, sanitize_columns=False)\n",
    "arcpy.cartography.SimplifyPolygon(base_SDWCommutePatterns_Number, fname_SDWCommutePatterns_Number, \"WEIGHTED_AREA\", 300)"
   ]
  },
  {
   "cell_type": "markdown",
   "metadata": {},
   "source": [
    "TRACT"
   ]
  },
  {
   "cell_type": "code",
   "execution_count": null,
   "metadata": {
    "vscode": {
     "languageId": "r"
    }
   },
   "outputs": [],
   "source": [
    "deleteIfExists(base_TractsWCommutePatterns_Number)\n",
    "deleteIfExists(fname_TractsWCommutePatterns_Number)\n",
    "sdf_LEHDCommutePatterns_tract.spatial.to_featureclass(base_TractsWCommutePatterns_Number, sanitize_columns=False)\n",
    "arcpy.cartography.SimplifyPolygon(base_TractsWCommutePatterns_Number, fname_TractsWCommutePatterns_Number, \"WEIGHTED_AREA\", 250)"
   ]
  },
  {
   "cell_type": "markdown",
   "metadata": {},
   "source": [
    "CITY"
   ]
  },
  {
   "cell_type": "code",
   "execution_count": null,
   "metadata": {
    "vscode": {
     "languageId": "r"
    }
   },
   "outputs": [],
   "source": [
    "deleteIfExists(base_CitiesWCommutePatterns_Percent_SA)\n",
    "deleteIfExists(fname_CitiesWCommutePatterns_Percent_SA)\n",
    "sdf_LEHDCommutePatterns_City_Percent_SA.spatial.to_featureclass(base_CitiesWCommutePatterns_Percent_SA, sanitize_columns=False)\n",
    "arcpy.cartography.SimplifyPolygon(base_CitiesWCommutePatterns_Percent_SA, fname_CitiesWCommutePatterns_Percent_SA, \"WEIGHTED_AREA\", .005)"
   ]
  },
  {
   "cell_type": "markdown",
   "metadata": {},
   "source": [
    "ALL"
   ]
  },
  {
   "cell_type": "code",
   "execution_count": null,
   "metadata": {
    "vscode": {
     "languageId": "r"
    }
   },
   "outputs": [],
   "source": [
    "\n",
    "\n",
    "arcpy.cartography.SimplifyPolygon(base_BlockGroupsWCommutePatterns_Percent_MU, fname_BlockGroupsWCommutePatterns_Percent_MU, \"WEIGHTED_AREA\", 175)\n",
    "arcpy.cartography.SimplifyPolygon(base_TractsWCommutePatterns_Percent_MU, fname_TractsWCommutePatterns_Percent_MU, \"WEIGHTED_AREA\", 250)\n",
    "arcpy.cartography.SimplifyPolygon(base_SDWCommutePatterns_Percent_MU, fname_SDWCommutePatterns_Percent_MU, \"WEIGHTED_AREA\", 300)\n",
    "arcpy.cartography.SimplifyPolygon(base_CitiesWCommutePatterns_Percent_MU, fname_CitiesWCommutePatterns_Percent_MU, \"WEIGHTED_AREA\", .005)"
   ]
  }
 ],
 "metadata": {
  "kernelspec": {
   "display_name": "R",
   "language": "R",
   "name": "ir"
  },
  "language_info": {
   "name": "R",
   "version": "3.9.16"
  }
 },
 "nbformat": 4,
 "nbformat_minor": 2
}
